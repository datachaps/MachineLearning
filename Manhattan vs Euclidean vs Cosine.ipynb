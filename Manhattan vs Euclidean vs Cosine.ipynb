{
 "cells": [
  {
   "cell_type": "code",
   "execution_count": 2,
   "id": "017493df-ce17-4c35-ab94-9bea129f2cc2",
   "metadata": {},
   "outputs": [],
   "source": [
    "from sklearn.metrics.pairwise import manhattan_distances,euclidean_distances,cosine_distances,cosine_similarity"
   ]
  },
  {
   "cell_type": "code",
   "execution_count": 6,
   "id": "e86479be-5ebc-450e-86b4-a4b2860eac46",
   "metadata": {},
   "outputs": [
    {
     "data": {
      "text/plain": [
       "array([[0.98994949]])"
      ]
     },
     "execution_count": 6,
     "metadata": {},
     "output_type": "execute_result"
    }
   ],
   "source": [
    "cosine_similarity([[4,4,0]],[[3,4,0]])"
   ]
  },
  {
   "cell_type": "code",
   "execution_count": 4,
   "id": "c93ffcde-72c4-404a-ac91-7491bb72cc96",
   "metadata": {},
   "outputs": [
    {
     "data": {
      "text/plain": [
       "array([[4.]])"
      ]
     },
     "execution_count": 4,
     "metadata": {},
     "output_type": "execute_result"
    }
   ],
   "source": [
    "manhattan_distances([[4,2]],[[2,4]])"
   ]
  },
  {
   "cell_type": "code",
   "execution_count": 5,
   "id": "9db410d8-d87e-469e-a7dc-6b164ec7eedb",
   "metadata": {},
   "outputs": [
    {
     "data": {
      "text/plain": [
       "array([[2.82842712]])"
      ]
     },
     "execution_count": 5,
     "metadata": {},
     "output_type": "execute_result"
    }
   ],
   "source": [
    "euclidean_distances([[4,2]],[[2,4]])"
   ]
  },
  {
   "cell_type": "code",
   "execution_count": 17,
   "id": "23fc0496-8bd2-4a47-9d35-08bd8b6e1650",
   "metadata": {},
   "outputs": [
    {
     "data": {
      "text/plain": [
       "array([[-0.57735027]])"
      ]
     },
     "execution_count": 17,
     "metadata": {},
     "output_type": "execute_result"
    }
   ],
   "source": [
    "# if cosine similarity is close to 1, then vectors are similar\n",
    "cosine_similarity([[4,4,0]],[[-1,-1,2]])"
   ]
  },
  {
   "cell_type": "code",
   "execution_count": 16,
   "id": "812020ad-6579-49c4-854b-6f17cad44337",
   "metadata": {},
   "outputs": [
    {
     "data": {
      "text/plain": [
       "array([[0.00708544]])"
      ]
     },
     "execution_count": 16,
     "metadata": {},
     "output_type": "execute_result"
    }
   ],
   "source": [
    "# if cosine distance is close to 0, then vectors are similar\n",
    "cosine_distances([[4,4,3]],[[4,5,4]])"
   ]
  },
  {
   "cell_type": "code",
   "execution_count": 15,
   "id": "eca5eb27-01e7-4ff9-8999-e1c0f2886cd2",
   "metadata": {},
   "outputs": [
    {
     "data": {
      "text/plain": [
       "array([[0.99291456]])"
      ]
     },
     "execution_count": 15,
     "metadata": {},
     "output_type": "execute_result"
    }
   ],
   "source": [
    "cosine_similarity([[4,4,3]],[[4,5,4]])"
   ]
  },
  {
   "cell_type": "code",
   "execution_count": null,
   "id": "c7fa8a84-5feb-4ba9-8a79-8acff584132d",
   "metadata": {},
   "outputs": [],
   "source": []
  }
 ],
 "metadata": {
  "kernelspec": {
   "display_name": "Python 3 (ipykernel)",
   "language": "python",
   "name": "python3"
  },
  "language_info": {
   "codemirror_mode": {
    "name": "ipython",
    "version": 3
   },
   "file_extension": ".py",
   "mimetype": "text/x-python",
   "name": "python",
   "nbconvert_exporter": "python",
   "pygments_lexer": "ipython3",
   "version": "3.11.9"
  }
 },
 "nbformat": 4,
 "nbformat_minor": 5
}
